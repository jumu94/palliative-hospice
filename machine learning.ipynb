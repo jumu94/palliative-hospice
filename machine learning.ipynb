{
 "cells": [
  {
   "cell_type": "code",
   "execution_count": 1,
   "id": "e7b5d2ea",
   "metadata": {},
   "outputs": [
    {
     "name": "stdout",
     "output_type": "stream",
     "text": [
      "Training Linear Regression...\n",
      "Training Random Forest...\n",
      "Training Gradient Boosting...\n",
      "Training Support Vector Machine...\n",
      "Training K-Nearest Neighbors...\n",
      "\n",
      "Model Performance:\n",
      "                     Model           MSE       R^2\n",
      "0       Linear Regression  1.008610e-28  1.000000\n",
      "1           Random Forest  1.129893e-25  1.000000\n",
      "2       Gradient Boosting  4.905004e-06  0.999999\n",
      "4     K-Nearest Neighbors  3.207714e-02  0.995493\n",
      "3  Support Vector Machine  5.622195e+00  0.210091\n",
      "\n",
      "Best Model: Linear Regression\n",
      "Feature Importance (if applicable):\n"
     ]
    }
   ],
   "source": [
    "import pandas as pd\n",
    "from sklearn.model_selection import train_test_split, cross_val_score\n",
    "from sklearn.ensemble import RandomForestRegressor, GradientBoostingRegressor\n",
    "from sklearn.linear_model import LinearRegression\n",
    "from sklearn.svm import SVR\n",
    "from sklearn.neighbors import KNeighborsRegressor\n",
    "from sklearn.metrics import mean_squared_error, r2_score\n",
    "import numpy as np\n",
    "\n",
    "# Load preprocessed data\n",
    "file_path = 'C:\\\\Users\\\\Gladiator\\\\Downloads\\\\Cleaned_Data.csv'  \n",
    "data = pd.read_csv(file_path)\n",
    "\n",
    "# Define features (X) and target (y)\n",
    "target_column = 'min_medicare_pricing_for_new_patient' \n",
    "X = data.drop(columns=[target_column])\n",
    "y = data[target_column]\n",
    "\n",
    "# Split into training and testing sets\n",
    "X_train, X_test, y_train, y_test = train_test_split(X, y, test_size=0.2, random_state=42)\n",
    "\n",
    "# Define models\n",
    "models = {\n",
    "    \"Linear Regression\": LinearRegression(),\n",
    "    \"Random Forest\": RandomForestRegressor(random_state=42, n_estimators=100),\n",
    "    \"Gradient Boosting\": GradientBoostingRegressor(random_state=42, n_estimators=100),\n",
    "    \"Support Vector Machine\": SVR(kernel='rbf'),\n",
    "    \"K-Nearest Neighbors\": KNeighborsRegressor(n_neighbors=5)\n",
    "}\n",
    "\n",
    "# Train and evaluate models\n",
    "results = []\n",
    "for name, model in models.items():\n",
    "    print(f\"Training {name}...\")\n",
    "    model.fit(X_train, y_train)\n",
    "    y_pred = model.predict(X_test)\n",
    "    \n",
    "    # Evaluate the model\n",
    "    mse = mean_squared_error(y_test, y_pred)\n",
    "    r2 = r2_score(y_test, y_pred)\n",
    "    results.append({\"Model\": name, \"MSE\": mse, \"R^2\": r2})\n",
    "\n",
    "# Display results\n",
    "results_df = pd.DataFrame(results).sort_values(by=\"R^2\", ascending=False)\n",
    "print(\"\\nModel Performance:\\n\", results_df)\n",
    "\n",
    "# Best model analysis\n",
    "best_model_name = results_df.iloc[0][\"Model\"]\n",
    "best_model = models[best_model_name]\n",
    "print(f\"\\nBest Model: {best_model_name}\")\n",
    "print(\"Feature Importance (if applicable):\")\n",
    "if hasattr(best_model, \"feature_importances_\"):\n",
    "    feature_importance = pd.DataFrame({\n",
    "        \"Feature\": X.columns,\n",
    "        \"Importance\": best_model.feature_importances_\n",
    "    }).sort_values(by=\"Importance\", ascending=False)\n",
    "    print(feature_importance)\n"
   ]
  },
  {
   "cell_type": "code",
   "execution_count": null,
   "id": "5cf4745f",
   "metadata": {},
   "outputs": [],
   "source": []
  },
  {
   "cell_type": "code",
   "execution_count": null,
   "id": "d6d17a27",
   "metadata": {},
   "outputs": [],
   "source": []
  }
 ],
 "metadata": {
  "kernelspec": {
   "display_name": "Python 3 (ipykernel)",
   "language": "python",
   "name": "python3"
  },
  "language_info": {
   "codemirror_mode": {
    "name": "ipython",
    "version": 3
   },
   "file_extension": ".py",
   "mimetype": "text/x-python",
   "name": "python",
   "nbconvert_exporter": "python",
   "pygments_lexer": "ipython3",
   "version": "3.10.9"
  }
 },
 "nbformat": 4,
 "nbformat_minor": 5
}
